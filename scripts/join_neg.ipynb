{
 "cells": [
  {
   "cell_type": "code",
   "execution_count": 98,
   "metadata": {},
   "outputs": [],
   "source": [
    "from udapi.core.block import Block\n",
    "from udapi.core.document import Document"
   ]
  },
  {
   "cell_type": "code",
   "execution_count": 134,
   "metadata": {},
   "outputs": [],
   "source": [
    "doc = Document()\n",
    "doc.load_conllu('../data/annotation/latest/tlg0012/tlg002/tlg0012.tlg002.daphne_tb-grc1.1-6.conllu')\n",
    "s = doc.bundles[10].get_tree()"
   ]
  },
  {
   "cell_type": "code",
   "execution_count": 135,
   "metadata": {},
   "outputs": [
    {
     "name": "stdout",
     "output_type": "stream",
     "text": [
      "1027 <2186570#1, οὐ> Ref=4.536|SpaceAfter=No\n",
      "1027 <2186570#2, δέ> Ref=4.536\n",
      "1027 <2186570#3, τις> Ref=4.536\n",
      "1027 <2186570#4, Ἀτρεΐδεω> Ref=4.536\n",
      "1027 <2186570#5, ἑτάρων> Ref=4.536\n",
      "1027 <2186570#6, λίπεθ'> Ref=4.536\n",
      "1027 <2186570#7, οἵ> Ref=4.536\n",
      "1027 <2186570#8, οἱ> Ref=4.536\n",
      "1027 <2186570#9, ἕποντο> Ref=4.536|SpaceAfter=No\n",
      "1027 <2186570#10, ,> Ref=4.536\n",
      "1027 <2186570#11, οὐ> Ref=4.537|SpaceAfter=No\n",
      "1027 <2186570#12, δέ> Ref=4.537\n",
      "1027 <2186570#13, τις> Ref=4.537\n",
      "1027 <2186570#14, Αἰγίσθου> Ref=4.537|SpaceAfter=No\n",
      "1027 <2186570#15, ,> Ref=4.537\n",
      "1027 <2186570#16, ἀλλ'> Ref=4.537\n",
      "1027 <2186570#17, ἔκταθεν> Ref=4.537\n",
      "1027 <2186570#18, ἐν> Ref=4.537\n",
      "1027 <2186570#19, μεγάροισιν> Ref=4.537\n",
      "1027 <2186570#20, '> Ref=4.537|SpaceAfter=No\n",
      "1027 <2186570#21, .> Ref=4.537\n"
     ]
    }
   ],
   "source": [
    "for i,s in enumerate(doc.trees):\n",
    "    if s.sent_id == '2186570':\n",
    "        break\n",
    "for n in s.descendants:\n",
    "    print(i,n, n.misc)"
   ]
  },
  {
   "cell_type": "code",
   "execution_count": 136,
   "metadata": {},
   "outputs": [],
   "source": [
    "node = s.descendants[0]"
   ]
  },
  {
   "cell_type": "code",
   "execution_count": 137,
   "metadata": {},
   "outputs": [
    {
     "data": {
      "text/plain": [
       "True"
      ]
     },
     "execution_count": 137,
     "metadata": {},
     "output_type": "execute_result"
    }
   ],
   "source": [
    "node.form in ('οὐ', 'μη') and node.misc['SpaceAfter'] == 'No'"
   ]
  },
  {
   "cell_type": "code",
   "execution_count": 138,
   "metadata": {},
   "outputs": [],
   "source": [
    "class JoinNeg(Block):\n",
    "    def process_node(self, node):        \n",
    "        if node.form in ('οὐ', 'μη') and node.misc['SpaceAfter'] == 'No':\n",
    "            nxt = node.next_node\n",
    "            if nxt.lemma in ('δέ', 'οὐδέ', 'οὐ', 'μηδέ'):\n",
    "                node.form = f'{node.form}{nxt.form}'\n",
    "                lm = 'μηδέ' if node.form == 'μη' else 'οὐδέ'\n",
    "                node.lemma = lm\n",
    "                node.upos = 'CCONJ'\n",
    "                node.xpos = 'c--------'\n",
    "                node.deprel = nxt.deprel\n",
    "                nxt.remove(children='rehang_warn')"
   ]
  },
  {
   "cell_type": "code",
   "execution_count": 147,
   "metadata": {},
   "outputs": [
    {
     "data": {
      "text/plain": [
       "True"
      ]
     },
     "execution_count": 147,
     "metadata": {},
     "output_type": "execute_result"
    }
   ],
   "source": [
    "'stronzo'.startswith('str')"
   ]
  },
  {
   "cell_type": "code",
   "execution_count": 148,
   "metadata": {},
   "outputs": [],
   "source": [
    "class ChangeLemmaNeg(Block):\n",
    "    def process_node(self, node):        \n",
    "        if node.lemma  == 'οὐδέ' and node.form.startswith('μη'):\n",
    "            node.lemma = 'μηδέ'"
   ]
  },
  {
   "cell_type": "code",
   "execution_count": 139,
   "metadata": {},
   "outputs": [
    {
     "name": "stderr",
     "output_type": "stream",
     "text": [
      "WARNING:root:<2185892#8, δέ> is being removed by remove(children=rehang_warn),  but it has (unexpected) children\n",
      "WARNING:root:<2185926#11, δέ> is being removed by remove(children=rehang_warn),  but it has (unexpected) children\n",
      "WARNING:root:<2185978#2, δέ> is being removed by remove(children=rehang_warn),  but it has (unexpected) children\n",
      "WARNING:root:<2186088#2, δ'> is being removed by remove(children=rehang_warn),  but it has (unexpected) children\n",
      "WARNING:root:<2186530#9, δέ> is being removed by remove(children=rehang_warn),  but it has (unexpected) children\n",
      "WARNING:root:<2186543#8, δὲ> is being removed by remove(children=rehang_warn),  but it has (unexpected) children\n",
      "WARNING:root:<2186601#20, δὲ> is being removed by remove(children=rehang_warn),  but it has (unexpected) children\n"
     ]
    }
   ],
   "source": [
    "jneg = JoinNeg()\n",
    "jneg.apply_on_document(doc)"
   ]
  },
  {
   "cell_type": "code",
   "execution_count": 97,
   "metadata": {},
   "outputs": [
    {
     "data": {
      "text/plain": [
       "''"
      ]
     },
     "execution_count": 97,
     "metadata": {},
     "output_type": "execute_result"
    }
   ],
   "source": [
    "node.misc['SpaceAfter']"
   ]
  },
  {
   "cell_type": "code",
   "execution_count": 115,
   "metadata": {},
   "outputs": [
    {
     "data": {
      "text/plain": [
       "False"
      ]
     },
     "execution_count": 115,
     "metadata": {},
     "output_type": "execute_result"
    }
   ],
   "source": [
    "node = s.descendants[0]\n",
    "# node.form in ('οὐ', 'μη') and node.misc['SpaceAfter'] == 'No'\n",
    "node.form in ('οὐ', 'μη')"
   ]
  },
  {
   "cell_type": "code",
   "execution_count": 118,
   "metadata": {},
   "outputs": [
    {
     "data": {
      "text/plain": [
       "\"ὁ δ' ἐπιζαφελῶς μενέαινεν ἀντιθέῳ Ὀδυσῆι πάρος ἣν γαῖαν ἱκέσθαι.\""
      ]
     },
     "execution_count": 118,
     "metadata": {},
     "output_type": "execute_result"
    }
   ],
   "source": [
    "s.text"
   ]
  },
  {
   "cell_type": "code",
   "execution_count": 141,
   "metadata": {},
   "outputs": [
    {
     "name": "stdout",
     "output_type": "stream",
     "text": [
      "# sent_id = 2186543\n",
      "# text = οὐδέ τί σε χρὴ ἴδμεναι, οὐδὲ δαῆναι ἐμὸν νόον·\n",
      "─┮\n",
      " │ ╭─┮ \u001b[33mοὐδέ\u001b[0m \u001b[31mCCONJ\u001b[0m \u001b[34madvmod:neg\u001b[0m\n",
      " │ │ ╰─╼ \u001b[33mτί\u001b[0m \u001b[31mPRON\u001b[0m \u001b[34madvmod\u001b[0m\n",
      " │ │               ╭─╼ \u001b[33mσε\u001b[0m \u001b[31mPRON\u001b[0m \u001b[34mnsubj\u001b[0m\n",
      " ╰─┾ \u001b[33mχρὴ\u001b[0m \u001b[31mVERB\u001b[0m \u001b[34mroot\u001b[0m │\n",
      "   ┡───────────────┶ \u001b[33mἴδμεναι\u001b[0m \u001b[31mVERB\u001b[0m \u001b[34mccomp\u001b[0m\n",
      "   ┡─╼ \u001b[33m,\u001b[0m \u001b[31mPUNCT\u001b[0m \u001b[34mpunct\u001b[0m\n",
      "   ┡─╼ \u001b[33mοὐδὲ\u001b[0m \u001b[31mCCONJ\u001b[0m \u001b[34mconj\u001b[0m\n",
      "   ┡─┮ \u001b[33mδαῆναι\u001b[0m \u001b[31mVERB\u001b[0m \u001b[34morphan\u001b[0m\n",
      "   │ │ \u001b[33mE8.1\u001b[0m \u001b[31m_\u001b[0m \u001b[34m_\u001b[0m\n",
      "   │ │ ╭─╼ \u001b[33mἐμὸν\u001b[0m \u001b[31mDET\u001b[0m \u001b[34mdet\u001b[0m\n",
      "   │ ╰─┶ \u001b[33mνόον\u001b[0m \u001b[31mNOUN\u001b[0m \u001b[34mobj\u001b[0m\n",
      "   ╰─╼ \u001b[33m·\u001b[0m \u001b[31mPUNCT\u001b[0m \u001b[34mpunct\u001b[0m\n",
      "\n"
     ]
    }
   ],
   "source": [
    "for s in doc.trees:\n",
    "    if s.sent_id == '2186543':\n",
    "        s.draw()"
   ]
  },
  {
   "cell_type": "code",
   "execution_count": 146,
   "metadata": {},
   "outputs": [
    {
     "name": "stdout",
     "output_type": "stream",
     "text": [
      "*** Working with ../data/annotation/latest/tlg0011/tlg001/tlg0011.tlg001.daphne_tb-grc1.conllu ***\n",
      "*** Working with ../data/annotation/latest/tlg0011/tlg006/tlg0011.tlg006.daphne_tb-grc1.conllu ***\n",
      "*** Working with ../data/annotation/latest/tlg0011/tlg003/tlg0011.tlg003.daphne_tb-grc1.conllu ***\n",
      "*** Working with ../data/annotation/latest/tlg0011/tlg004/tlg0011.tlg004.daphne_tb-grc1.conllu ***\n"
     ]
    },
    {
     "name": "stderr",
     "output_type": "stream",
     "text": [
      "WARNING:root:<843#5, δὲ> is being removed by remove(children=rehang_warn),  but it has (unexpected) children\n"
     ]
    },
    {
     "name": "stdout",
     "output_type": "stream",
     "text": [
      "*** Working with ../data/annotation/latest/tlg0011/tlg005/tlg0011.tlg005.daphne_tb-grc1.conllu ***\n",
      "*** Working with ../data/annotation/latest/tlg0011/tlg002/tlg0011.tlg002.daphne_tb-grc1.conllu ***\n",
      "*** Working with ../data/annotation/latest/tlg0011/tlg002/tlg0011.tlg002.daphne_tb-grc1.conllu.bak.conllu ***\n",
      "*** Working with ../data/annotation/latest/tlg0020/tlg0020.tlg002.daphne_tb-grc1.conllu ***\n",
      "*** Working with ../data/annotation/latest/tlg0020/tlg0020.tlg003.daphne_tb-grc1.conllu ***\n",
      "*** Working with ../data/annotation/latest/tlg0020/tlg0020.tlg001.daphne_tb-grc1.conllu ***\n",
      "*** Working with ../data/annotation/latest/tlg0006/tlg013/tlg0006.tlg013.daphne_tb-grc1.conllu ***\n",
      "*** Working with ../data/annotation/latest/tlg0006/tlg003/tlg0006.tlg003.daphne_tb-grc1.conllu ***\n",
      "*** Working with ../data/annotation/latest/tlg0012/tlg001/tlg0012.tlg001.daphne_tb-grc1.7-12.conllu ***\n"
     ]
    },
    {
     "name": "stderr",
     "output_type": "stream",
     "text": [
      "WARNING:root:<2276508#5, δ'> is being removed by remove(children=rehang_warn),  but it has (unexpected) children\n",
      "WARNING:root:<2277171#8, δὲ> is being removed by remove(children=rehang_warn),  but it has (unexpected) children\n",
      "WARNING:root:<2277959#10, δὲ> is being removed by remove(children=rehang_warn),  but it has (unexpected) children\n",
      "WARNING:root:<2277976#18, δ'> is being removed by remove(children=rehang_warn),  but it has (unexpected) children\n"
     ]
    },
    {
     "name": "stdout",
     "output_type": "stream",
     "text": [
      "*** Working with ../data/annotation/latest/tlg0012/tlg001/tlg0012.tlg001.daphne_tb-grc1.19-24.conllu ***\n"
     ]
    },
    {
     "name": "stderr",
     "output_type": "stream",
     "text": [
      "WARNING:root:<2281338#9, δ'> is being removed by remove(children=rehang_warn),  but it has (unexpected) children\n"
     ]
    },
    {
     "name": "stdout",
     "output_type": "stream",
     "text": [
      "*** Working with ../data/annotation/latest/tlg0012/tlg001/tlg0012.tlg001.daphne_tb-grc1.1-6.conllu ***\n",
      "*** Working with ../data/annotation/latest/tlg0012/tlg001/tlg0012.tlg001.daphne_tb-grc1.13-18.conllu ***\n"
     ]
    },
    {
     "name": "stderr",
     "output_type": "stream",
     "text": [
      "WARNING:root:<2279672#4, δ'> is being removed by remove(children=rehang_warn),  but it has (unexpected) children\n",
      "WARNING:root:<2279788#4, δέ> is being removed by remove(children=rehang_warn),  but it has (unexpected) children\n"
     ]
    },
    {
     "name": "stdout",
     "output_type": "stream",
     "text": [
      "*** Working with ../data/annotation/latest/tlg0012/tlg002/tlg0012.tlg002.daphne_tb-grc1.13-18.conllu ***\n"
     ]
    },
    {
     "name": "stderr",
     "output_type": "stream",
     "text": [
      "WARNING:root:<2189047#10, δὲ> is being removed by remove(children=rehang_warn),  but it has (unexpected) children\n",
      "WARNING:root:<2189089#8, δέ> is being removed by remove(children=rehang_warn),  but it has (unexpected) children\n",
      "WARNING:root:<2189771#13, δέ> is being removed by remove(children=rehang_warn),  but it has (unexpected) children\n",
      "WARNING:root:<2190591#52, δ'> is being removed by remove(children=rehang_warn),  but it has (unexpected) children\n"
     ]
    },
    {
     "name": "stdout",
     "output_type": "stream",
     "text": [
      "*** Working with ../data/annotation/latest/tlg0012/tlg002/tlg0012.tlg002.daphne_tb-grc1.19-24.conllu ***\n"
     ]
    },
    {
     "name": "stderr",
     "output_type": "stream",
     "text": [
      "WARNING:root:<2191447#2, δέ> is being removed by remove(children=rehang_warn),  but it has (unexpected) children\n",
      "WARNING:root:<2191459#9, δὲ> is being removed by remove(children=rehang_warn),  but it has (unexpected) children\n"
     ]
    },
    {
     "name": "stdout",
     "output_type": "stream",
     "text": [
      "*** Working with ../data/annotation/latest/tlg0012/tlg002/tlg0012.tlg002.daphne_tb-grc1.1-6.conllu ***\n"
     ]
    },
    {
     "name": "stderr",
     "output_type": "stream",
     "text": [
      "WARNING:root:<2185892#8, δέ> is being removed by remove(children=rehang_warn),  but it has (unexpected) children\n",
      "WARNING:root:<2185926#11, δέ> is being removed by remove(children=rehang_warn),  but it has (unexpected) children\n",
      "WARNING:root:<2185978#2, δέ> is being removed by remove(children=rehang_warn),  but it has (unexpected) children\n",
      "WARNING:root:<2186088#2, δ'> is being removed by remove(children=rehang_warn),  but it has (unexpected) children\n",
      "WARNING:root:<2186530#9, δέ> is being removed by remove(children=rehang_warn),  but it has (unexpected) children\n",
      "WARNING:root:<2186543#8, δὲ> is being removed by remove(children=rehang_warn),  but it has (unexpected) children\n",
      "WARNING:root:<2186601#20, δὲ> is being removed by remove(children=rehang_warn),  but it has (unexpected) children\n"
     ]
    },
    {
     "name": "stdout",
     "output_type": "stream",
     "text": [
      "*** Working with ../data/annotation/latest/tlg0012/tlg002/tlg0012.tlg002.daphne_tb-grc1.7-12.conllu ***\n"
     ]
    },
    {
     "name": "stderr",
     "output_type": "stream",
     "text": [
      "WARNING:root:<2187715#34, δὲ> is being removed by remove(children=rehang_warn),  but it has (unexpected) children\n",
      "WARNING:root:<2187809#28, δὲ> is being removed by remove(children=rehang_warn),  but it has (unexpected) children\n",
      "WARNING:root:<2187942#10, δὲ> is being removed by remove(children=rehang_warn),  but it has (unexpected) children\n",
      "WARNING:root:<2188724#8, δὲ> is being removed by remove(children=rehang_warn),  but it has (unexpected) children\n"
     ]
    },
    {
     "name": "stdout",
     "output_type": "stream",
     "text": [
      "*** Working with ../data/annotation/latest/tlg0085/tlg007/tlg0085.tlg007.daphne_tb-grc1.conllu ***\n",
      "*** Working with ../data/annotation/latest/tlg0085/tlg006/tlg0085.tlg006.daphne_tb-grc1.conllu ***\n"
     ]
    },
    {
     "name": "stderr",
     "output_type": "stream",
     "text": [
      "WARNING:root:<40#7, δ'> is being removed by remove(children=rehang_warn),  but it has (unexpected) children\n"
     ]
    },
    {
     "name": "stdout",
     "output_type": "stream",
     "text": [
      "*** Working with ../data/annotation/latest/tlg0085/tlg003/tlg0085.tlg003.daphne_tb-grc1.conllu ***\n"
     ]
    },
    {
     "name": "stderr",
     "output_type": "stream",
     "text": [
      "WARNING:root:<299#8, δ'> is being removed by remove(children=rehang_warn),  but it has (unexpected) children\n"
     ]
    },
    {
     "name": "stdout",
     "output_type": "stream",
     "text": [
      "*** Working with ../data/annotation/latest/tlg0085/tlg005/tlg0085.tlg005.daphne_tb-grc1.conllu ***\n"
     ]
    },
    {
     "name": "stderr",
     "output_type": "stream",
     "text": [
      "WARNING:root:<354#2, δὲ> is being removed by remove(children=rehang_warn),  but it has (unexpected) children\n"
     ]
    },
    {
     "name": "stdout",
     "output_type": "stream",
     "text": [
      "*** Working with ../data/annotation/latest/tlg0013/tlg0013.tlg002.daphne_tb-grc1.conllu ***\n"
     ]
    }
   ],
   "source": [
    "from glob import glob\n",
    "from tqdm import tqdm\n",
    "from udapi.block.write.conllu import Conllu as ConlluWriter\n",
    "\n",
    "daph_pat = '../data/annotation/latest/**/tlg00*.conllu'\n",
    "\n",
    "for pth in glob(daph_pat, recursive=True):\n",
    "    print(f'*** Working with {pth} ***')\n",
    "    doc = Document()\n",
    "    doc.load_conllu(pth)\n",
    "    jneg.apply_on_document(doc)\n",
    "    writer = ConlluWriter(files=pth)\n",
    "    writer.apply_on_document(doc)\n",
    "    \n"
   ]
  },
  {
   "cell_type": "code",
   "execution_count": 143,
   "metadata": {},
   "outputs": [
    {
     "data": {
      "text/plain": [
       "'../data/annotation/latest/tlg0013/tlg0013.tlg002.daphne_tb-grc1.conllu'"
      ]
     },
     "execution_count": 143,
     "metadata": {},
     "output_type": "execute_result"
    }
   ],
   "source": [
    "doc.meta['loaded_from']"
   ]
  },
  {
   "cell_type": "code",
   "execution_count": 149,
   "metadata": {},
   "outputs": [
    {
     "name": "stdout",
     "output_type": "stream",
     "text": [
      "*** Working with ../data/annotation/latest/tlg0011/tlg001/tlg0011.tlg001.daphne_tb-grc1.conllu ***\n",
      "*** Working with ../data/annotation/latest/tlg0011/tlg006/tlg0011.tlg006.daphne_tb-grc1.conllu ***\n",
      "*** Working with ../data/annotation/latest/tlg0011/tlg003/tlg0011.tlg003.daphne_tb-grc1.conllu ***\n",
      "*** Working with ../data/annotation/latest/tlg0011/tlg004/tlg0011.tlg004.daphne_tb-grc1.conllu ***\n",
      "*** Working with ../data/annotation/latest/tlg0011/tlg005/tlg0011.tlg005.daphne_tb-grc1.conllu ***\n",
      "*** Working with ../data/annotation/latest/tlg0011/tlg002/tlg0011.tlg002.daphne_tb-grc1.conllu ***\n",
      "*** Working with ../data/annotation/latest/tlg0011/tlg002/tlg0011.tlg002.daphne_tb-grc1.conllu.bak.conllu ***\n",
      "*** Working with ../data/annotation/latest/tlg0020/tlg0020.tlg002.daphne_tb-grc1.conllu ***\n",
      "*** Working with ../data/annotation/latest/tlg0020/tlg0020.tlg003.daphne_tb-grc1.conllu ***\n",
      "*** Working with ../data/annotation/latest/tlg0020/tlg0020.tlg001.daphne_tb-grc1.conllu ***\n",
      "*** Working with ../data/annotation/latest/tlg0006/tlg013/tlg0006.tlg013.daphne_tb-grc1.conllu ***\n",
      "*** Working with ../data/annotation/latest/tlg0006/tlg003/tlg0006.tlg003.daphne_tb-grc1.conllu ***\n",
      "*** Working with ../data/annotation/latest/tlg0012/tlg001/tlg0012.tlg001.daphne_tb-grc1.7-12.conllu ***\n",
      "*** Working with ../data/annotation/latest/tlg0012/tlg001/tlg0012.tlg001.daphne_tb-grc1.19-24.conllu ***\n",
      "*** Working with ../data/annotation/latest/tlg0012/tlg001/tlg0012.tlg001.daphne_tb-grc1.1-6.conllu ***\n",
      "*** Working with ../data/annotation/latest/tlg0012/tlg001/tlg0012.tlg001.daphne_tb-grc1.13-18.conllu ***\n",
      "*** Working with ../data/annotation/latest/tlg0012/tlg002/tlg0012.tlg002.daphne_tb-grc1.13-18.conllu ***\n",
      "*** Working with ../data/annotation/latest/tlg0012/tlg002/tlg0012.tlg002.daphne_tb-grc1.19-24.conllu ***\n",
      "*** Working with ../data/annotation/latest/tlg0012/tlg002/tlg0012.tlg002.daphne_tb-grc1.1-6.conllu ***\n",
      "*** Working with ../data/annotation/latest/tlg0012/tlg002/tlg0012.tlg002.daphne_tb-grc1.7-12.conllu ***\n",
      "*** Working with ../data/annotation/latest/tlg0085/tlg007/tlg0085.tlg007.daphne_tb-grc1.conllu ***\n",
      "*** Working with ../data/annotation/latest/tlg0085/tlg006/tlg0085.tlg006.daphne_tb-grc1.conllu ***\n",
      "*** Working with ../data/annotation/latest/tlg0085/tlg003/tlg0085.tlg003.daphne_tb-grc1.conllu ***\n",
      "*** Working with ../data/annotation/latest/tlg0085/tlg005/tlg0085.tlg005.daphne_tb-grc1.conllu ***\n",
      "*** Working with ../data/annotation/latest/tlg0013/tlg0013.tlg002.daphne_tb-grc1.conllu ***\n"
     ]
    }
   ],
   "source": [
    "lemmachangeneg = ChangeLemmaNeg()\n",
    "\n",
    "daph_pat = '../data/annotation/latest/**/tlg00*.conllu'\n",
    "\n",
    "for pth in glob(daph_pat, recursive=True):\n",
    "    print(f'*** Working with {pth} ***')\n",
    "    doc = Document()\n",
    "    doc.load_conllu(pth)\n",
    "    lemmachangeneg.apply_on_document(doc)\n",
    "    writer = ConlluWriter(files=pth)\n",
    "    writer.apply_on_document(doc)\n",
    "    \n"
   ]
  },
  {
   "cell_type": "code",
   "execution_count": null,
   "metadata": {},
   "outputs": [],
   "source": []
  }
 ],
 "metadata": {
  "kernelspec": {
   "display_name": "NLP environment (nlp)",
   "language": "python",
   "name": "nlp"
  },
  "language_info": {
   "codemirror_mode": {
    "name": "ipython",
    "version": 3
   },
   "file_extension": ".py",
   "mimetype": "text/x-python",
   "name": "python",
   "nbconvert_exporter": "python",
   "pygments_lexer": "ipython3",
   "version": "3.11.0"
  }
 },
 "nbformat": 4,
 "nbformat_minor": 2
}
