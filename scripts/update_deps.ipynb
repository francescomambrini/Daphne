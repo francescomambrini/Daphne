{
 "cells": [
  {
   "cell_type": "code",
   "execution_count": 4,
   "metadata": {},
   "outputs": [],
   "source": [
    "from udapi.core.document import Document"
   ]
  },
  {
   "cell_type": "code",
   "execution_count": 37,
   "metadata": {},
   "outputs": [
    {
     "name": "stdout",
     "output_type": "stream",
     "text": [
      "2274193\t10\t9.1:advmod\n",
      "2274193\t13\t9.1:nsubj\n",
      "2274210\t4\t0.1:advcl\n",
      "2274247\t23\t22.1:compound\n",
      "2274247\t25\t22.1:obl\n",
      "2274247\t26\t22.1:obj\n",
      "2274247\t30\t22.1:acl\n",
      "2274247\t31\t22.1:advcl\n",
      "2274379\t10\t7.1:obj\n",
      "2274510\t3\t3.1:mark\n",
      "2274510\t4\t3.1:advmod\n",
      "2274510\t5\t3.1:advmod\n",
      "2274592\t2\t1.1:advmod\n",
      "2274592\t3\t1.1:advmod\n",
      "2274592\t5\t1.1:nsubj\n",
      "2274592\t6\t1.1:obl\n",
      "2274592\t9\t1.1:conj\n",
      "2274626\t5\t0.1:mark\n",
      "2274712\t14\t13.1:obl\n",
      "2274712\t17\t13.1:nsubj\n",
      "2274712\t24\t23.1:nsubj\n",
      "2274746\t9\t8.1:obj\n",
      "2274753\t12\t11.1:advmod\n",
      "2274753\t13\t11.1:nsubj\n",
      "2274757\t9\t10.1:nmod\n",
      "2274757\t11\t10.1:nmod\n",
      "2274757\t13\t15.1:conj\n",
      "2274757\t14\t15.1:cc\n",
      "2274757\t16\t15.1:nmod\n",
      "2274760\t1\t0.1:nsubj\n",
      "2274760\t3\t0.1:case\n",
      "2274760\t5\t0.1:obl\n",
      "2274760\t16\t0.1:punct\n",
      "2274883\t2\t0.1:cc\n",
      "2274883\t3\t0.1:mark\n",
      "2274883\t5\t0.1:root\n",
      "2274883\t17\t0.1:advcl\n",
      "2274884\t3\t0.1:cc\n",
      "2274884\t4\t0.1:root\n",
      "2274947\t15\t14.1:punct\n",
      "2274947\t22\t14.1:advcl\n",
      "2275193\t13\t9.1:nsubj\n",
      "2275945\t3\t0.1:case\n",
      "2275945\t19\t0.1:acl\n"
     ]
    }
   ],
   "source": [
    "doc = Document('../data/annotation/latest/tlg0012/tlg001/tlg0012.tlg001.perseus-grc1.1-6.tb.conllu',\n",
    "               fix_cycles=True)\n",
    "\n",
    "for tree in doc.trees:\n",
    "    for n in tree.descendants:\n",
    "        allnodes = tree.descendants_and_empty.append(tree.address)\n",
    "        try:\n",
    "            for dep in n.deps:\n",
    "                _ = ''\n",
    "        except ValueError:\n",
    "            print(f'{tree.sent_id}\\t{n.ord}\\t{n.raw_deps}')"
   ]
  },
  {
   "cell_type": "code",
   "execution_count": 81,
   "metadata": {},
   "outputs": [],
   "source": [
    "doc = Document('../data/annotation/latest/tlg0011/tlg006/tlg0011.tlg006.daphne_tb-grc1.conllu',\n",
    "               fix_cycles=True)\n",
    "lendeps = []\n",
    "for tree in doc.trees:\n",
    "    for n in tree.descendants:\n",
    "        try:\n",
    "            for dep in n.deps:\n",
    "                _ = ''\n",
    "        except ValueError:\n",
    "            print(f'{tree.sent_id}\\t{n.ord}\\t{n.raw_deps}\\t{len(n.deps)}')\n",
    "            n.raw_deps = f\"{n.parent.ord}:{n.deprel}\"\n",
    "\n",
    "# with open('/Users/francesco.mambrini/Desktop/test.conllu', 'w') as out:\n",
    "#     out.write(doc.to_conllu_string())"
   ]
  },
  {
   "cell_type": "code",
   "execution_count": 56,
   "metadata": {},
   "outputs": [
    {
     "data": {
      "text/plain": [
       "1"
      ]
     },
     "execution_count": 56,
     "metadata": {},
     "output_type": "execute_result"
    }
   ],
   "source": [
    "tree = doc.bundles[2].trees[0]\n",
    "n = tree.descendants()[0]\n",
    "n.deps\n",
    "len(n.deps)"
   ]
  },
  {
   "cell_type": "code",
   "execution_count": 59,
   "metadata": {},
   "outputs": [
    {
     "data": {
      "text/plain": [
       "1"
      ]
     },
     "execution_count": 59,
     "metadata": {},
     "output_type": "execute_result"
    }
   ],
   "source": [
    "len(n.deps)"
   ]
  },
  {
   "cell_type": "code",
   "execution_count": null,
   "metadata": {},
   "outputs": [],
   "source": []
  },
  {
   "cell_type": "code",
   "execution_count": null,
   "metadata": {},
   "outputs": [],
   "source": []
  }
 ],
 "metadata": {
  "kernelspec": {
   "display_name": "NLP environment (nlp)",
   "language": "python",
   "name": "nlp"
  },
  "language_info": {
   "codemirror_mode": {
    "name": "ipython",
    "version": 3
   },
   "file_extension": ".py",
   "mimetype": "text/x-python",
   "name": "python",
   "nbconvert_exporter": "python",
   "pygments_lexer": "ipython3",
   "version": "3.11.0"
  },
  "orig_nbformat": 4
 },
 "nbformat": 4,
 "nbformat_minor": 2
}
