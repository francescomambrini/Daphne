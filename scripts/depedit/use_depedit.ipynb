{
 "cells": [
  {
   "cell_type": "code",
   "execution_count": 21,
   "metadata": {},
   "outputs": [],
   "source": [
    "from depedit import DepEdit"
   ]
  },
  {
   "cell_type": "code",
   "execution_count": 30,
   "metadata": {},
   "outputs": [],
   "source": [
    "inpf = '../../data/annotation/latest/tlg0012/tlg001/tlg0012.tlg001.perseus-grc1.7-12.tb.conllu'\n",
    "with open('control.ini') as f:\n",
    "    deped = DepEdit(f)"
   ]
  },
  {
   "cell_type": "code",
   "execution_count": 31,
   "metadata": {},
   "outputs": [],
   "source": [
    "with open(inpf) as f:\n",
    "    result = deped.run_depedit(f)"
   ]
  },
  {
   "cell_type": "code",
   "execution_count": 32,
   "metadata": {},
   "outputs": [
    {
     "name": "stdout",
     "output_type": "stream",
     "text": [
      "33\tἐλθέμεν\tἔρχομαι\tVERB\tv--ana---\tVerbForm=Inf|Voice=Act\t22\txcomp\t22:ccomp\tRef=10.395|SpaceAfter=No\n"
     ]
    }
   ],
   "source": [
    "print(result.split('\\n')[21881])"
   ]
  },
  {
   "cell_type": "code",
   "execution_count": null,
   "metadata": {},
   "outputs": [],
   "source": []
  }
 ],
 "metadata": {
  "kernelspec": {
   "display_name": "data",
   "language": "python",
   "name": "python3"
  },
  "language_info": {
   "codemirror_mode": {
    "name": "ipython",
    "version": 3
   },
   "file_extension": ".py",
   "mimetype": "text/x-python",
   "name": "python",
   "nbconvert_exporter": "python",
   "pygments_lexer": "ipython3",
   "version": "3.10.2"
  },
  "orig_nbformat": 4
 },
 "nbformat": 4,
 "nbformat_minor": 2
}
